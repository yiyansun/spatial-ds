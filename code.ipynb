{
 "cells": [
  {
   "cell_type": "markdown",
   "metadata": {},
   "source": [
    "***\n",
    "#### About this document\n",
    "This is the assignment for the UCL CASA module Data Science for Spatial Systems (CASA0006) <br>\n",
    "**Code is hosted [here]**<br>\n",
    "**Data is availble [here]**\n",
    "***"
   ]
  },
  {
   "cell_type": "markdown",
   "metadata": {},
   "source": [
    "# Nonlinear effects of public transport accessibility on urban development: \n",
    "<p style=\"color:DimGray; text-align:left; font-size:20px\"><i> the case of Chongqing City </i></p>\n",
    "<a id=\"ID_title\"></a>"
   ]
  },
  {
   "cell_type": "markdown",
   "metadata": {},
   "source": [
    "<p style=\"color:DimGray; text-align:left;\"><i>This paper explores data from . <br>It highlights</i></p>"
   ]
  },
  {
   "cell_type": "markdown",
   "metadata": {},
   "source": [
    "---"
   ]
  },
  {
   "cell_type": "markdown",
   "metadata": {},
   "source": [
    "<a id=\"ID_intr\"></a>\n",
    "| [1.0 Intro](#ID_intr) | [2.0 Lit. review](#ID_lit) | [3.0 Method](#ID_method) | [4.0 Data](#ID_data) | [5.0 Explore](#ID_explore) | [6.0 Analysis](#ID_analyse) | [7.0 Discussion and conclusion](#ID_conclude) | [Bibliography](#ID_biblio) | [Appendix](#ID_append) |"
   ]
  },
  {
   "cell_type": "markdown",
   "metadata": {},
   "source": [
    "## 1.0 | Introduction"
   ]
  },
  {
   "cell_type": "markdown",
   "metadata": {},
   "source": [
    "data [transport](https://restapi.amap.com/v3/bus/linename?s=rsv3&extensions=all&key=d39b1ec75e5f1f9033b1bc00952c4ced&output=json&city=重庆&offset=2&keywords=轨道交通1号线&platform=JS) json file"
   ]
  },
  {
   "cell_type": "code",
   "execution_count": 1,
   "metadata": {},
   "outputs": [
    {
     "name": "stdout",
     "output_type": "stream",
     "text": [
      "3.11.5 | packaged by Anaconda, Inc. | (main, Sep 11 2023, 13:26:23) [MSC v.1916 64 bit (AMD64)]\n"
     ]
    }
   ],
   "source": [
    "import sys\n",
    "print(sys.version)"
   ]
  },
  {
   "cell_type": "code",
   "execution_count": 2,
   "metadata": {},
   "outputs": [
    {
     "name": "stderr",
     "output_type": "stream",
     "text": [
      "C:\\Users\\dune\\AppData\\Roaming\\Python\\Python311\\site-packages\\pandas\\core\\arrays\\masked.py:60: UserWarning: Pandas requires version '1.3.6' or newer of 'bottleneck' (version '1.3.5' currently installed).\n",
      "  from pandas.core import (\n"
     ]
    }
   ],
   "source": [
    "import requests\n",
    "import os\n",
    "import json\n",
    "import math\n",
    "import csv\n",
    "import pandas as pd\n",
    "import numpy as np\n",
    "import matplotlib.pyplot as plt\n",
    "import geopandas as gpd\n",
    "from glob import glob\n",
    "#!pip install ChangeCoordinate\n",
    "from ChangeCoordinate import ChangeCoord\n",
    "#!pip install folium mapclassify\n"
   ]
  },
  {
   "cell_type": "markdown",
   "metadata": {},
   "source": [
    "<a id=\"ID_lit\"></a>\n",
    "| [1.0 Intro](#ID_intr) | [2.0 Lit. review](#ID_lit) | [3.0 Method](#ID_method) | [4.0 Data](#ID_data) | [5.0 Explore](\"#section_ID\") | [6.0 Analysis](#ID_Intro) | [7.0 Results](\"#section_ID\") | [8.0 Discussion](#ID_Intro) | [Bibliography](#ID_Intro) | [Appendix](#ID_Intro) |\n",
    "\n",
    "## 2.0 | Literature review"
   ]
  },
  {
   "cell_type": "markdown",
   "metadata": {},
   "source": []
  },
  {
   "cell_type": "markdown",
   "metadata": {},
   "source": [
    "<a id=\"ID_method\"></a>\n",
    "| [1.0 Intro](#ID_intr) | [2.0 Lit. review](#ID_lit) | [3.0 Method](#ID_method) | [4.0 Data](#ID_data) | [5.0 Explore](#ID_explore) | [6.0 Analysis](#ID_analyse) | [7.0 Discussion and conclusion](#ID_conclude) | [Bibliography](#ID_biblio) | [Appendix](#ID_append) |\n",
    "\n",
    "## 3.0 | Methodology"
   ]
  },
  {
   "cell_type": "markdown",
   "metadata": {},
   "source": []
  },
  {
   "cell_type": "markdown",
   "metadata": {},
   "source": [
    "<a id=\"ID_data\"></a>\n",
    "| [1.0 Intro](#ID_intr) | [2.0 Lit. review](#ID_lit) | [3.0 Method](#ID_method) | [4.0 Data](#ID_data) | [5.0 Explore](#ID_explore) | [6.0 Analysis](#ID_analyse) | [7.0 Discussion and conclusion](#ID_conclude) | [Bibliography](#ID_biblio) | [Appendix](#ID_append) |\n",
    "\n",
    "## 4.0 | Datasets\n"
   ]
  },
  {
   "cell_type": "markdown",
   "metadata": {},
   "source": [
    "### 4.1 | Metro Station"
   ]
  },
  {
   "cell_type": "code",
   "execution_count": 3,
   "metadata": {},
   "outputs": [],
   "source": [
    "def get_data(line):\n",
    "    print(line)\n",
    "    url=(\"https://restapi.amap.com/v3/bus/linename?s=rsv3&extensions=all&key=6e0e286fb0ddd87779b1ff5ee653e9fa&output=json&city=重庆&offset=2&keywords={}&platform=JS&jscode=88de710fc1d55dbefd60d24831c27d5f\"). \\\n",
    "    format(line)\n",
    "    \n",
    "    r=requests.get(url).json()\n",
    "    df = pd.DataFrame(r['buslines'][0]['busstops'])\n",
    "    return df\n",
    "# spare url=(\"https://restapi.amap.com/v3/bus/linename?s=rsv3&extensions=all&key=d39b1ec75e5f1f9033b1bc00952c4ced&output=json&city=重庆&offset=2&keywords={}&platform=JS\"). \\\n",
    "# spare key: 6e0e286fb0ddd87779b1ff5ee653e9fa"
   ]
  },
  {
   "cell_type": "code",
   "execution_count": 4,
   "metadata": {},
   "outputs": [],
   "source": [
    "line_names = ['轨道交通1号线', '轨道交通2号线', '轨道交通3号线', '轨道交通3号线北延线','轨道交通4号线', '5号线', \n",
    "              '轨道交通6号线','轨道交通6号线支线（国博线）','轨道交通9号线','轨道交通10号线',\n",
    "              '轨道交通江跳线','轨道交通环线（外环）','轨道交通环线（内环）']"
   ]
  },
  {
   "cell_type": "code",
   "execution_count": 5,
   "metadata": {},
   "outputs": [
    {
     "data": {
      "text/plain": [
       "dict_keys(['status', 'info', 'infocode', 'count', 'suggestion', 'buslines'])"
      ]
     },
     "execution_count": 5,
     "metadata": {},
     "output_type": "execute_result"
    }
   ],
   "source": [
    "line = line_names\n",
    "url = (\"https://restapi.amap.com/v3/bus/linename?s=rsv3&extensions=all&key=6e0e286fb0ddd87779b1ff5ee653e9fa&output=json&city=重庆&offset=2&keywords={}&platform=JS&jscode=88de710fc1d55dbefd60d24831c27d5f\"). \\\n",
    "format(line)\n",
    "r = requests.get(url).json()\n",
    "r.keys()"
   ]
  },
  {
   "cell_type": "code",
   "execution_count": 6,
   "metadata": {},
   "outputs": [
    {
     "name": "stdout",
     "output_type": "stream",
     "text": [
      "轨道交通1号线\n",
      "轨道交通2号线\n"
     ]
    },
    {
     "name": "stdout",
     "output_type": "stream",
     "text": [
      "轨道交通3号线\n",
      "轨道交通3号线北延线\n",
      "轨道交通4号线\n",
      "5号线\n",
      "轨道交通6号线\n",
      "轨道交通6号线支线（国博线）\n",
      "轨道交通9号线\n",
      "轨道交通10号线\n",
      "轨道交通江跳线\n",
      "轨道交通环线（外环）\n",
      "轨道交通环线（内环）\n"
     ]
    },
    {
     "data": {
      "text/html": [
       "<div>\n",
       "<style scoped>\n",
       "    .dataframe tbody tr th:only-of-type {\n",
       "        vertical-align: middle;\n",
       "    }\n",
       "\n",
       "    .dataframe tbody tr th {\n",
       "        vertical-align: top;\n",
       "    }\n",
       "\n",
       "    .dataframe thead th {\n",
       "        text-align: right;\n",
       "    }\n",
       "</style>\n",
       "<table border=\"1\" class=\"dataframe\">\n",
       "  <thead>\n",
       "    <tr style=\"text-align: right;\">\n",
       "      <th></th>\n",
       "      <th>id</th>\n",
       "      <th>location</th>\n",
       "      <th>name</th>\n",
       "      <th>sequence</th>\n",
       "    </tr>\n",
       "  </thead>\n",
       "  <tbody>\n",
       "    <tr>\n",
       "      <th>0</th>\n",
       "      <td>BV10049208</td>\n",
       "      <td>106.585845,29.564142</td>\n",
       "      <td>朝天门</td>\n",
       "      <td>1</td>\n",
       "    </tr>\n",
       "    <tr>\n",
       "      <th>1</th>\n",
       "      <td>BV10045951</td>\n",
       "      <td>106.583159,29.559168</td>\n",
       "      <td>小什字</td>\n",
       "      <td>2</td>\n",
       "    </tr>\n",
       "    <tr>\n",
       "      <th>2</th>\n",
       "      <td>BV10045314</td>\n",
       "      <td>106.571829,29.553173</td>\n",
       "      <td>较场口</td>\n",
       "      <td>3</td>\n",
       "    </tr>\n",
       "    <tr>\n",
       "      <th>3</th>\n",
       "      <td>BV10045298</td>\n",
       "      <td>106.56291,29.554914</td>\n",
       "      <td>七星岗</td>\n",
       "      <td>4</td>\n",
       "    </tr>\n",
       "    <tr>\n",
       "      <th>4</th>\n",
       "      <td>BV10045318</td>\n",
       "      <td>106.548514,29.552864</td>\n",
       "      <td>两路口</td>\n",
       "      <td>5</td>\n",
       "    </tr>\n",
       "    <tr>\n",
       "      <th>...</th>\n",
       "      <td>...</td>\n",
       "      <td>...</td>\n",
       "      <td>...</td>\n",
       "      <td>...</td>\n",
       "    </tr>\n",
       "    <tr>\n",
       "      <th>29</th>\n",
       "      <td>BV11102222</td>\n",
       "      <td>106.453159,29.495547</td>\n",
       "      <td>华龙</td>\n",
       "      <td>30</td>\n",
       "    </tr>\n",
       "    <tr>\n",
       "      <th>30</th>\n",
       "      <td>BV10668313</td>\n",
       "      <td>106.439385,29.500105</td>\n",
       "      <td>重庆西站</td>\n",
       "      <td>31</td>\n",
       "    </tr>\n",
       "    <tr>\n",
       "      <th>31</th>\n",
       "      <td>BV11102218</td>\n",
       "      <td>106.442419,29.517693</td>\n",
       "      <td>上桥</td>\n",
       "      <td>32</td>\n",
       "    </tr>\n",
       "    <tr>\n",
       "      <th>32</th>\n",
       "      <td>BV11102223</td>\n",
       "      <td>106.449365,29.524457</td>\n",
       "      <td>凤鸣山</td>\n",
       "      <td>33</td>\n",
       "    </tr>\n",
       "    <tr>\n",
       "      <th>33</th>\n",
       "      <td>BV10668294</td>\n",
       "      <td>106.455786,29.532534</td>\n",
       "      <td>重庆图书馆</td>\n",
       "      <td>34</td>\n",
       "    </tr>\n",
       "  </tbody>\n",
       "</table>\n",
       "<p>326 rows × 4 columns</p>\n",
       "</div>"
      ],
      "text/plain": [
       "            id              location   name sequence\n",
       "0   BV10049208  106.585845,29.564142    朝天门        1\n",
       "1   BV10045951  106.583159,29.559168    小什字        2\n",
       "2   BV10045314  106.571829,29.553173    较场口        3\n",
       "3   BV10045298   106.56291,29.554914    七星岗        4\n",
       "4   BV10045318  106.548514,29.552864    两路口        5\n",
       "..         ...                   ...    ...      ...\n",
       "29  BV11102222  106.453159,29.495547     华龙       30\n",
       "30  BV10668313  106.439385,29.500105   重庆西站       31\n",
       "31  BV11102218  106.442419,29.517693     上桥       32\n",
       "32  BV11102223  106.449365,29.524457    凤鸣山       33\n",
       "33  BV10668294  106.455786,29.532534  重庆图书馆       34\n",
       "\n",
       "[326 rows x 4 columns]"
      ]
     },
     "execution_count": 6,
     "metadata": {},
     "output_type": "execute_result"
    }
   ],
   "source": [
    "dx = pd.concat([get_data(line) for line in line_names], axis=0)\n",
    "dx"
   ]
  },
  {
   "cell_type": "code",
   "execution_count": 7,
   "metadata": {},
   "outputs": [
    {
     "data": {
      "text/plain": [
       "[106.58215932367729, 29.567034062350533]"
      ]
     },
     "execution_count": 7,
     "metadata": {},
     "output_type": "execute_result"
    }
   ],
   "source": [
    "ccg = ChangeCoord()\n",
    "\n",
    "x = dx.iloc[0]['location']\n",
    "lng, lat = float(x.split(',')[0]), float(x.split(',')[1])\n",
    "ccg.gcj02_to_wgs84(lng,lat)"
   ]
  },
  {
   "cell_type": "code",
   "execution_count": 8,
   "metadata": {},
   "outputs": [],
   "source": [
    "dx['coord_wg84'] = dx['location'].apply(lambda x: ccg.gcj02_to_wgs84(float(x.split(',')[0]), \n",
    "                                                                     float(x.split(',')[1])))"
   ]
  },
  {
   "cell_type": "code",
   "execution_count": 9,
   "metadata": {},
   "outputs": [],
   "source": [
    "dx['coord_wg84'].str.get(1)\n",
    "geometry = gpd.points_from_xy(dx['coord_wg84'].str.get(0), \n",
    "                              dx['coord_wg84'].str.get(1))\n",
    "\n",
    "metro_sts = gpd.GeoDataFrame(dx[['id', 'location', 'name', 'sequence']],\n",
    "                                geometry=geometry,\n",
    "                                crs = 'epsg:4326')\n",
    "\n",
    "# metro_sts.to_file('data/cq_metro_sts.shp')\n",
    "# metro_sts.to_file('data/metro_sts.geojson', driver='GeoJSON')"
   ]
  },
  {
   "cell_type": "code",
   "execution_count": 12,
   "metadata": {},
   "outputs": [
    {
     "data": {
      "text/html": [
       "<div>\n",
       "<style scoped>\n",
       "    .dataframe tbody tr th:only-of-type {\n",
       "        vertical-align: middle;\n",
       "    }\n",
       "\n",
       "    .dataframe tbody tr th {\n",
       "        vertical-align: top;\n",
       "    }\n",
       "\n",
       "    .dataframe thead th {\n",
       "        text-align: right;\n",
       "    }\n",
       "</style>\n",
       "<table border=\"1\" class=\"dataframe\">\n",
       "  <thead>\n",
       "    <tr style=\"text-align: right;\">\n",
       "      <th></th>\n",
       "      <th>id</th>\n",
       "      <th>location</th>\n",
       "      <th>name</th>\n",
       "      <th>sequence</th>\n",
       "      <th>line</th>\n",
       "      <th>geometry</th>\n",
       "    </tr>\n",
       "  </thead>\n",
       "  <tbody>\n",
       "    <tr>\n",
       "      <th>0</th>\n",
       "      <td>BV10049208</td>\n",
       "      <td>106.585845,29.564142</td>\n",
       "      <td>朝天门</td>\n",
       "      <td>1</td>\n",
       "      <td>轨道交通1号线</td>\n",
       "      <td>POINT (106.58216 29.56703)</td>\n",
       "    </tr>\n",
       "    <tr>\n",
       "      <th>1</th>\n",
       "      <td>BV10045951</td>\n",
       "      <td>106.583159,29.559168</td>\n",
       "      <td>小什字</td>\n",
       "      <td>2</td>\n",
       "      <td>轨道交通1号线</td>\n",
       "      <td>POINT (106.57947 29.56206)</td>\n",
       "    </tr>\n",
       "  </tbody>\n",
       "</table>\n",
       "</div>"
      ],
      "text/plain": [
       "           id              location name sequence     line  \\\n",
       "0  BV10049208  106.585845,29.564142  朝天门        1  轨道交通1号线   \n",
       "1  BV10045951  106.583159,29.559168  小什字        2  轨道交通1号线   \n",
       "\n",
       "                     geometry  \n",
       "0  POINT (106.58216 29.56703)  \n",
       "1  POINT (106.57947 29.56206)  "
      ]
     },
     "execution_count": 12,
     "metadata": {},
     "output_type": "execute_result"
    }
   ],
   "source": [
    "# read metro stations data\n",
    "metro_sts = gpd.read_file('https://github.com/yiyansun/spatial-ds/raw/main/data/metro_sts.geojson')\n",
    "metro_sts.head(2)"
   ]
  },
  {
   "cell_type": "markdown",
   "metadata": {},
   "source": [
    "### 4.2 | POI Data"
   ]
  },
  {
   "cell_type": "code",
   "execution_count": 11,
   "metadata": {},
   "outputs": [
    {
     "data": {
      "text/plain": [
       "'\\ndef get_amap_poi(city, keywords, page):\\n    amap_api_url = \"https://restapi.amap.com/v3/place/text\"\\n    # replace with your web api key\\n    api_key = \"8dd06dd6bddfefffdc9e169b00d5191b\"\\n\\n    params = {\"key\": api_key,\"keywords\": keywords,\"offset\": 1000,\"page\": page,\"city\": city,\"output\": \"json\"}\\n\\n    response = requests.get(amap_api_url, params=params)\\n    result = response.json()\\n\\n    if result[\"status\"] == \"1\" and int(result[\"count\"]) > 0:\\n        pois = result[\"pois\"]\\n        return pois\\n    else:\\n        print(f\"Not found pois or error for keyword: {keywords}\")\\n        return []\\n\\ndef save_to_csv(data, filename):\\n    file_path = os.path.join(\"data\", filename)\\n    with open(file_path, \\'w\\', newline=\\'\\', encoding=\\'utf-8\\') as csvfile:\\n        writer = csv.writer(csvfile)\\n        writer.writerow([\\'name\\', \\'location\\', \\'tel\\', \\'pname\\', \\'cityname\\', \\'adname\\', \\'address\\'])\\n        writer.writerows(data)\\n\\ndef main():\\n    city_name = \"重庆市\" \\n    keywords_list = [] \\n    page_num = 1\\n    output_label = [\\'name\\', \\'location\\', \\'tel\\', \\'pname\\', \\'cityname\\', \\'adname\\', \\'address\\']\\n\\n    for keyword in keywords_list:\\n        pois = get_amap_poi(city_name, keyword, page_num)\\n        \\n        if pois:\\n            output_data = []\\n            for poi in pois:\\n                info = [poi[label] for label in output_label]\\n                output_data.append(info)\\n            \\n            save_to_csv(output_data, f\"{keyword}.csv\")\\n            print(f\"Data saved to data/{keyword}.csv\")\\n        else:\\n            print(f\"Not found pois or error for keyword: {keyword}\")\\n\\nif __name__ == \"__main__\":\\n    main()\\n'"
      ]
     },
     "execution_count": 11,
     "metadata": {},
     "output_type": "execute_result"
    }
   ],
   "source": [
    "# use gaode map api to get pois\n",
    "'''\n",
    "def get_amap_poi(city, keywords, page):\n",
    "    amap_api_url = \"https://restapi.amap.com/v3/place/text\"\n",
    "    # replace with your web api key\n",
    "    api_key = \"8dd06dd6bddfefffdc9e169b00d5191b\"\n",
    "\n",
    "    params = {\"key\": api_key,\"keywords\": keywords,\"offset\": 1000,\"page\": page,\"city\": city,\"output\": \"json\"}\n",
    "\n",
    "    response = requests.get(amap_api_url, params=params)\n",
    "    result = response.json()\n",
    "\n",
    "    if result[\"status\"] == \"1\" and int(result[\"count\"]) > 0:\n",
    "        pois = result[\"pois\"]\n",
    "        return pois\n",
    "    else:\n",
    "        print(f\"Not found pois or error for keyword: {keywords}\")\n",
    "        return []\n",
    "\n",
    "def save_to_csv(data, filename):\n",
    "    file_path = os.path.join(\"data\", filename)\n",
    "    with open(file_path, 'w', newline='', encoding='utf-8') as csvfile:\n",
    "        writer = csv.writer(csvfile)\n",
    "        writer.writerow(['name', 'location', 'tel', 'pname', 'cityname', 'adname', 'address'])\n",
    "        writer.writerows(data)\n",
    "\n",
    "def main():\n",
    "    city_name = \"重庆市\" \n",
    "    keywords_list = [] \n",
    "    page_num = 1\n",
    "    output_label = ['name', 'location', 'tel', 'pname', 'cityname', 'adname', 'address']\n",
    "\n",
    "    for keyword in keywords_list:\n",
    "        pois = get_amap_poi(city_name, keyword, page_num)\n",
    "        \n",
    "        if pois:\n",
    "            output_data = []\n",
    "            for poi in pois:\n",
    "                info = [poi[label] for label in output_label]\n",
    "                output_data.append(info)\n",
    "            \n",
    "            save_to_csv(output_data, f\"{keyword}.csv\")\n",
    "            print(f\"Data saved to data/{keyword}.csv\")\n",
    "        else:\n",
    "            print(f\"Not found pois or error for keyword: {keyword}\")\n",
    "\n",
    "if __name__ == \"__main__\":\n",
    "    main()\n",
    "'''"
   ]
  },
  {
   "cell_type": "code",
   "execution_count": 12,
   "metadata": {},
   "outputs": [],
   "source": [
    "# read poi data\n",
    "# will take about 2 mins\n",
    "school = pd.read_excel('https://github.com/yiyansun/DSSS/raw/main/assessment/data/poi_select/school.xlsx')\n",
    "business_enterprises = pd.read_excel('http://github.com/yiyansun/DSSS/raw/main/assessment/data/poi_select/business_enterprises.xlsx')\n",
    "leisure_entertainment = pd.read_excel('http://github.com/yiyansun/DSSS/raw/main/assessment/data/poi_select/leisure_entertainment.xlsx')\n",
    "life_service = pd.read_excel('http://github.com/yiyansun/DSSS/raw/main/assessment/data/poi_select/life_service.xlsx')\n",
    "medical = pd.read_excel('http://github.com/yiyansun/DSSS/raw/main/assessment/data/poi_select/medical.xlsx')\n",
    "real_estate = pd.read_excel('http://github.com/yiyansun/DSSS/raw/main/assessment/data/poi_select/real_estate.xlsx')\n",
    "restaurants = pd.read_excel('http://github.com/yiyansun/DSSS/raw/main/assessment/data/poi_select/restaurants.xlsx')\n",
    "shopping = pd.read_excel('http://github.com/yiyansun/DSSS/raw/main/assessment/data/poi_select/shopping.xlsx')\n"
   ]
  },
  {
   "cell_type": "code",
   "execution_count": 13,
   "metadata": {},
   "outputs": [
    {
     "name": "stdout",
     "output_type": "stream",
     "text": [
      "<class 'pandas.core.frame.DataFrame'>\n",
      "Index: 732866 entries, 0 to 235232\n",
      "Data columns (total 10 columns):\n",
      " #   Column    Non-Null Count   Dtype  \n",
      "---  ------    --------------   -----  \n",
      " 0   name      732855 non-null  object \n",
      " 1   cate_1    732866 non-null  object \n",
      " 2   cate_2    732866 non-null  object \n",
      " 3   cate_3    732866 non-null  object \n",
      " 4   address   732862 non-null  object \n",
      " 5   province  732866 non-null  object \n",
      " 6   city      732866 non-null  object \n",
      " 7   district  732866 non-null  object \n",
      " 8   lng       732866 non-null  float64\n",
      " 9   lat       732866 non-null  float64\n",
      "dtypes: float64(2), object(8)\n",
      "memory usage: 61.5+ MB\n"
     ]
    }
   ],
   "source": [
    "# combine all poi data and rename the columns\n",
    "poi_select = pd.concat([school, business_enterprises, leisure_entertainment, life_service, medical, real_estate, restaurants, shopping], axis=0)\n",
    "poi_select.columns\n",
    "poi_select.rename(columns={'名称': 'name','大类':'cate_1', '中类':'cate_2', '小类':'cate_3',\n",
    "                           '地址':'address', '省':'province', '市':'city', '区':'district', '经度':'lng', '纬度':'lat'}, inplace=True)\n",
    "poi_select.info()"
   ]
  },
  {
   "cell_type": "code",
   "execution_count": 14,
   "metadata": {},
   "outputs": [],
   "source": [
    "# convert poi data to geodataframe\n",
    "poi = gpd.GeoDataFrame(poi_select, geometry=gpd.points_from_xy(poi_select['lng'], poi_select['lat']), crs='epsg:4326')\n",
    "poi.to_file('data/poi.geojson', driver='GeoJSON')"
   ]
  },
  {
   "cell_type": "markdown",
   "metadata": {},
   "source": [
    "<a id=\"ID_explore\"></a>\n",
    "| [1.0 Intro](#ID_intr) | [2.0 Lit. review](#ID_lit) | [3.0 Method](#ID_method) | [4.0 Data](#ID_data) | [5.0 Explore](#ID_explore) | [6.0 Analysis](#ID_analyse) | [7.0 Discussion and conclusion](#ID_conclude) | [Bibliography](#ID_biblio) | [Appendix](#ID_append) |\n",
    "\n",
    "## 5.0 | Data preparation"
   ]
  },
  {
   "cell_type": "code",
   "execution_count": 13,
   "metadata": {},
   "outputs": [],
   "source": [
    "metro_sts = metro_sts.to_crs(3857)\n",
    "metro_sts['geometry'] = metro_sts['geometry'].buffer(600)"
   ]
  },
  {
   "cell_type": "code",
   "execution_count": 14,
   "metadata": {},
   "outputs": [
    {
     "data": {
      "text/html": [
       "<div>\n",
       "<style scoped>\n",
       "    .dataframe tbody tr th:only-of-type {\n",
       "        vertical-align: middle;\n",
       "    }\n",
       "\n",
       "    .dataframe tbody tr th {\n",
       "        vertical-align: top;\n",
       "    }\n",
       "\n",
       "    .dataframe thead th {\n",
       "        text-align: right;\n",
       "    }\n",
       "</style>\n",
       "<table border=\"1\" class=\"dataframe\">\n",
       "  <thead>\n",
       "    <tr style=\"text-align: right;\">\n",
       "      <th></th>\n",
       "      <th>name</th>\n",
       "      <th>cate_1</th>\n",
       "      <th>cate_2</th>\n",
       "      <th>cate_3</th>\n",
       "      <th>address</th>\n",
       "      <th>province</th>\n",
       "      <th>city</th>\n",
       "      <th>district</th>\n",
       "      <th>lng</th>\n",
       "      <th>lat</th>\n",
       "      <th>geometry</th>\n",
       "    </tr>\n",
       "  </thead>\n",
       "  <tbody>\n",
       "    <tr>\n",
       "      <th>0</th>\n",
       "      <td>蓝桥小学</td>\n",
       "      <td>科教文化服务</td>\n",
       "      <td>学校</td>\n",
       "      <td>小学</td>\n",
       "      <td>渝黔街附近</td>\n",
       "      <td>重庆市</td>\n",
       "      <td>重庆市</td>\n",
       "      <td>秀山土家族苗族自治县</td>\n",
       "      <td>108.998617</td>\n",
       "      <td>28.185827</td>\n",
       "      <td>POINT (12133670.542 3272422.588)</td>\n",
       "    </tr>\n",
       "    <tr>\n",
       "      <th>1</th>\n",
       "      <td>中平乡人民政府</td>\n",
       "      <td>科教文化服务</td>\n",
       "      <td>培训机构</td>\n",
       "      <td>培训机构</td>\n",
       "      <td>319国道东50米</td>\n",
       "      <td>重庆市</td>\n",
       "      <td>重庆市</td>\n",
       "      <td>秀山土家族苗族自治县</td>\n",
       "      <td>109.041185</td>\n",
       "      <td>28.259267</td>\n",
       "      <td>POINT (12138409.190 3281700.925)</td>\n",
       "    </tr>\n",
       "    <tr>\n",
       "      <th>2</th>\n",
       "      <td>大龙门组</td>\n",
       "      <td>科教文化服务</td>\n",
       "      <td>学校</td>\n",
       "      <td>中学</td>\n",
       "      <td>清溪场镇星寨1组</td>\n",
       "      <td>重庆市</td>\n",
       "      <td>重庆市</td>\n",
       "      <td>秀山土家族苗族自治县</td>\n",
       "      <td>109.039281</td>\n",
       "      <td>28.261770</td>\n",
       "      <td>POINT (12138197.237 3282017.264)</td>\n",
       "    </tr>\n",
       "    <tr>\n",
       "      <th>3</th>\n",
       "      <td>金舞鞋艺术培训中心</td>\n",
       "      <td>科教文化服务</td>\n",
       "      <td>培训机构</td>\n",
       "      <td>培训机构</td>\n",
       "      <td>新兴巷与040乡道交叉口东150米</td>\n",
       "      <td>重庆市</td>\n",
       "      <td>重庆市</td>\n",
       "      <td>秀山土家族苗族自治县</td>\n",
       "      <td>109.034281</td>\n",
       "      <td>28.262399</td>\n",
       "      <td>POINT (12137640.640 3282096.761)</td>\n",
       "    </tr>\n",
       "    <tr>\n",
       "      <th>4</th>\n",
       "      <td>梅江中学</td>\n",
       "      <td>科教文化服务</td>\n",
       "      <td>学校</td>\n",
       "      <td>中学</td>\n",
       "      <td>梅江镇邑中居委会11组</td>\n",
       "      <td>重庆市</td>\n",
       "      <td>重庆市</td>\n",
       "      <td>秀山土家族苗族自治县</td>\n",
       "      <td>109.035453</td>\n",
       "      <td>28.264340</td>\n",
       "      <td>POINT (12137771.106 3282342.079)</td>\n",
       "    </tr>\n",
       "    <tr>\n",
       "      <th>...</th>\n",
       "      <td>...</td>\n",
       "      <td>...</td>\n",
       "      <td>...</td>\n",
       "      <td>...</td>\n",
       "      <td>...</td>\n",
       "      <td>...</td>\n",
       "      <td>...</td>\n",
       "      <td>...</td>\n",
       "      <td>...</td>\n",
       "      <td>...</td>\n",
       "      <td>...</td>\n",
       "    </tr>\n",
       "    <tr>\n",
       "      <th>732861</th>\n",
       "      <td>满意电动工具</td>\n",
       "      <td>购物服务</td>\n",
       "      <td>家居建材市场</td>\n",
       "      <td>建材五金市场</td>\n",
       "      <td>大坝路与028县道交叉口东50米</td>\n",
       "      <td>重庆市</td>\n",
       "      <td>重庆市</td>\n",
       "      <td>城口县</td>\n",
       "      <td>108.469705</td>\n",
       "      <td>32.114541</td>\n",
       "      <td>POINT (12074792.327 3778355.322)</td>\n",
       "    </tr>\n",
       "    <tr>\n",
       "      <th>732862</th>\n",
       "      <td>罗铁匠五金商行</td>\n",
       "      <td>购物服务</td>\n",
       "      <td>购物相关场所</td>\n",
       "      <td>购物相关场所</td>\n",
       "      <td>东安乡兴田村(近坚朗希望小学)</td>\n",
       "      <td>重庆市</td>\n",
       "      <td>重庆市</td>\n",
       "      <td>城口县</td>\n",
       "      <td>108.476728</td>\n",
       "      <td>32.114885</td>\n",
       "      <td>POINT (12075574.124 3778400.534)</td>\n",
       "    </tr>\n",
       "    <tr>\n",
       "      <th>732863</th>\n",
       "      <td>天乐福度假村</td>\n",
       "      <td>购物服务</td>\n",
       "      <td>家电电子卖场</td>\n",
       "      <td>家电电子卖场</td>\n",
       "      <td>北大街45号行政综合办公楼3层</td>\n",
       "      <td>重庆市</td>\n",
       "      <td>重庆市</td>\n",
       "      <td>城口县</td>\n",
       "      <td>108.538480</td>\n",
       "      <td>32.127230</td>\n",
       "      <td>POINT (12082448.325 3780023.153)</td>\n",
       "    </tr>\n",
       "    <tr>\n",
       "      <th>732864</th>\n",
       "      <td>便民超市</td>\n",
       "      <td>购物服务</td>\n",
       "      <td>超级市场</td>\n",
       "      <td>超市</td>\n",
       "      <td>高楠乡街道</td>\n",
       "      <td>重庆市</td>\n",
       "      <td>重庆市</td>\n",
       "      <td>城口县</td>\n",
       "      <td>108.533800</td>\n",
       "      <td>32.129596</td>\n",
       "      <td>POINT (12081927.350 3780334.164)</td>\n",
       "    </tr>\n",
       "    <tr>\n",
       "      <th>732865</th>\n",
       "      <td>高姿化妆品专柜</td>\n",
       "      <td>购物服务</td>\n",
       "      <td>购物相关场所</td>\n",
       "      <td>购物相关场所</td>\n",
       "      <td>城口县</td>\n",
       "      <td>重庆市</td>\n",
       "      <td>重庆市</td>\n",
       "      <td>城口县</td>\n",
       "      <td>108.542530</td>\n",
       "      <td>32.133760</td>\n",
       "      <td>POINT (12082899.169 3780881.541)</td>\n",
       "    </tr>\n",
       "  </tbody>\n",
       "</table>\n",
       "<p>732866 rows × 11 columns</p>\n",
       "</div>"
      ],
      "text/plain": [
       "             name  cate_1  cate_2  cate_3            address province  city  \\\n",
       "0            蓝桥小学  科教文化服务      学校      小学              渝黔街附近      重庆市   重庆市   \n",
       "1         中平乡人民政府  科教文化服务    培训机构    培训机构          319国道东50米      重庆市   重庆市   \n",
       "2            大龙门组  科教文化服务      学校      中学           清溪场镇星寨1组      重庆市   重庆市   \n",
       "3       金舞鞋艺术培训中心  科教文化服务    培训机构    培训机构  新兴巷与040乡道交叉口东150米      重庆市   重庆市   \n",
       "4            梅江中学  科教文化服务      学校      中学        梅江镇邑中居委会11组      重庆市   重庆市   \n",
       "...           ...     ...     ...     ...                ...      ...   ...   \n",
       "732861     满意电动工具    购物服务  家居建材市场  建材五金市场   大坝路与028县道交叉口东50米      重庆市   重庆市   \n",
       "732862    罗铁匠五金商行    购物服务  购物相关场所  购物相关场所    东安乡兴田村(近坚朗希望小学)      重庆市   重庆市   \n",
       "732863     天乐福度假村    购物服务  家电电子卖场  家电电子卖场    北大街45号行政综合办公楼3层      重庆市   重庆市   \n",
       "732864       便民超市    购物服务    超级市场      超市              高楠乡街道      重庆市   重庆市   \n",
       "732865    高姿化妆品专柜    购物服务  购物相关场所  购物相关场所                城口县      重庆市   重庆市   \n",
       "\n",
       "          district         lng        lat                          geometry  \n",
       "0       秀山土家族苗族自治县  108.998617  28.185827  POINT (12133670.542 3272422.588)  \n",
       "1       秀山土家族苗族自治县  109.041185  28.259267  POINT (12138409.190 3281700.925)  \n",
       "2       秀山土家族苗族自治县  109.039281  28.261770  POINT (12138197.237 3282017.264)  \n",
       "3       秀山土家族苗族自治县  109.034281  28.262399  POINT (12137640.640 3282096.761)  \n",
       "4       秀山土家族苗族自治县  109.035453  28.264340  POINT (12137771.106 3282342.079)  \n",
       "...            ...         ...        ...                               ...  \n",
       "732861         城口县  108.469705  32.114541  POINT (12074792.327 3778355.322)  \n",
       "732862         城口县  108.476728  32.114885  POINT (12075574.124 3778400.534)  \n",
       "732863         城口县  108.538480  32.127230  POINT (12082448.325 3780023.153)  \n",
       "732864         城口县  108.533800  32.129596  POINT (12081927.350 3780334.164)  \n",
       "732865         城口县  108.542530  32.133760  POINT (12082899.169 3780881.541)  \n",
       "\n",
       "[732866 rows x 11 columns]"
      ]
     },
     "execution_count": 14,
     "metadata": {},
     "output_type": "execute_result"
    }
   ],
   "source": [
    "poi =gpd.read_file('data/poi.geojson', driver='GeoJSON')\n",
    "poi = poi.to_crs(3857)\n",
    "poi\n"
   ]
  },
  {
   "cell_type": "code",
   "execution_count": 15,
   "metadata": {},
   "outputs": [
    {
     "data": {
      "text/html": [
       "<div>\n",
       "<style scoped>\n",
       "    .dataframe tbody tr th:only-of-type {\n",
       "        vertical-align: middle;\n",
       "    }\n",
       "\n",
       "    .dataframe tbody tr th {\n",
       "        vertical-align: top;\n",
       "    }\n",
       "\n",
       "    .dataframe thead th {\n",
       "        text-align: right;\n",
       "    }\n",
       "</style>\n",
       "<table border=\"1\" class=\"dataframe\">\n",
       "  <thead>\n",
       "    <tr style=\"text-align: right;\">\n",
       "      <th></th>\n",
       "      <th>name_left</th>\n",
       "      <th>cate_1</th>\n",
       "      <th>cate_2</th>\n",
       "      <th>cate_3</th>\n",
       "      <th>address</th>\n",
       "      <th>province</th>\n",
       "      <th>city</th>\n",
       "      <th>district</th>\n",
       "      <th>lng</th>\n",
       "      <th>lat</th>\n",
       "      <th>geometry</th>\n",
       "      <th>index_right</th>\n",
       "      <th>id</th>\n",
       "      <th>location</th>\n",
       "      <th>MSA</th>\n",
       "      <th>sequence</th>\n",
       "      <th>line</th>\n",
       "    </tr>\n",
       "  </thead>\n",
       "  <tbody>\n",
       "    <tr>\n",
       "      <th>2390</th>\n",
       "      <td>重庆工程职业技术学院江津校区-第4教</td>\n",
       "      <td>科教文化服务</td>\n",
       "      <td>科教文化场所</td>\n",
       "      <td>科教文化场所</td>\n",
       "      <td>上后街12号附近</td>\n",
       "      <td>重庆市</td>\n",
       "      <td>重庆市</td>\n",
       "      <td>江津区</td>\n",
       "      <td>106.257009</td>\n",
       "      <td>29.343320</td>\n",
       "      <td>POINT (11828476.135 3419415.970)</td>\n",
       "      <td>252</td>\n",
       "      <td>BV11510908</td>\n",
       "      <td>106.256836,29.342872</td>\n",
       "      <td>江津高铁</td>\n",
       "      <td>2</td>\n",
       "      <td>轨道交通江跳线</td>\n",
       "    </tr>\n",
       "    <tr>\n",
       "      <th>3057</th>\n",
       "      <td>博乐琴行(渝南分流道)</td>\n",
       "      <td>科教文化服务</td>\n",
       "      <td>培训机构</td>\n",
       "      <td>培训机构</td>\n",
       "      <td>791村道附近</td>\n",
       "      <td>重庆市</td>\n",
       "      <td>重庆市</td>\n",
       "      <td>巴南区</td>\n",
       "      <td>106.501490</td>\n",
       "      <td>29.374127</td>\n",
       "      <td>POINT (11855691.636 3423350.744)</td>\n",
       "      <td>25</td>\n",
       "      <td>BV10047378</td>\n",
       "      <td>106.505897,29.375867</td>\n",
       "      <td>鱼洞</td>\n",
       "      <td>1</td>\n",
       "      <td>轨道交通2号线</td>\n",
       "    </tr>\n",
       "  </tbody>\n",
       "</table>\n",
       "</div>"
      ],
      "text/plain": [
       "               name_left  cate_1  cate_2  cate_3   address province  city  \\\n",
       "2390  重庆工程职业技术学院江津校区-第4教  科教文化服务  科教文化场所  科教文化场所  上后街12号附近      重庆市   重庆市   \n",
       "3057         博乐琴行(渝南分流道)  科教文化服务    培训机构    培训机构   791村道附近      重庆市   重庆市   \n",
       "\n",
       "     district         lng        lat                          geometry  \\\n",
       "2390      江津区  106.257009  29.343320  POINT (11828476.135 3419415.970)   \n",
       "3057      巴南区  106.501490  29.374127  POINT (11855691.636 3423350.744)   \n",
       "\n",
       "      index_right          id              location   MSA sequence     line  \n",
       "2390          252  BV11510908  106.256836,29.342872  江津高铁        2  轨道交通江跳线  \n",
       "3057           25  BV10047378  106.505897,29.375867    鱼洞        1  轨道交通2号线  "
      ]
     },
     "execution_count": 15,
     "metadata": {},
     "output_type": "execute_result"
    }
   ],
   "source": [
    "poi_within_600 = gpd.sjoin(poi, metro_sts, predicate='within')\n",
    "poi_within_600.rename(columns={'name_right': 'MSA'}, inplace=True)\n",
    "poi_within_600.head(2)"
   ]
  },
  {
   "cell_type": "code",
   "execution_count": 16,
   "metadata": {},
   "outputs": [],
   "source": [
    "final_msa = poi_within_600.groupby(by='MSA')['name_left'].count().reset_index()\n",
    "\n",
    "final_msa = metro_sts.merge(final_msa,left_on='name', right_on='MSA', how='left').fillna(0)"
   ]
  },
  {
   "cell_type": "code",
   "execution_count": 17,
   "metadata": {},
   "outputs": [],
   "source": [
    "final_msa.rename(columns={'name_left': 'poi_count'}, inplace=True)"
   ]
  },
  {
   "cell_type": "code",
   "execution_count": 19,
   "metadata": {},
   "outputs": [
    {
     "data": {
      "text/html": [
       "<div>\n",
       "<style scoped>\n",
       "    .dataframe tbody tr th:only-of-type {\n",
       "        vertical-align: middle;\n",
       "    }\n",
       "\n",
       "    .dataframe tbody tr th {\n",
       "        vertical-align: top;\n",
       "    }\n",
       "\n",
       "    .dataframe thead th {\n",
       "        text-align: right;\n",
       "    }\n",
       "</style>\n",
       "<table border=\"1\" class=\"dataframe\">\n",
       "  <thead>\n",
       "    <tr style=\"text-align: right;\">\n",
       "      <th></th>\n",
       "      <th>id</th>\n",
       "      <th>location</th>\n",
       "      <th>name</th>\n",
       "      <th>sequence</th>\n",
       "      <th>line</th>\n",
       "      <th>geometry</th>\n",
       "      <th>MSA</th>\n",
       "      <th>poi_count</th>\n",
       "    </tr>\n",
       "  </thead>\n",
       "  <tbody>\n",
       "    <tr>\n",
       "      <th>0</th>\n",
       "      <td>BV10049208</td>\n",
       "      <td>106.585845,29.564142</td>\n",
       "      <td>朝天门</td>\n",
       "      <td>1</td>\n",
       "      <td>轨道交通1号线</td>\n",
       "      <td>POLYGON ((11865271.704 3448016.635, 11865268.8...</td>\n",
       "      <td>朝天门</td>\n",
       "      <td>584.0</td>\n",
       "    </tr>\n",
       "    <tr>\n",
       "      <th>1</th>\n",
       "      <td>BV10045951</td>\n",
       "      <td>106.583159,29.559168</td>\n",
       "      <td>小什字</td>\n",
       "      <td>2</td>\n",
       "      <td>轨道交通1号线</td>\n",
       "      <td>POLYGON ((11864972.692 3447380.071, 11864969.8...</td>\n",
       "      <td>小什字</td>\n",
       "      <td>6970.0</td>\n",
       "    </tr>\n",
       "  </tbody>\n",
       "</table>\n",
       "</div>"
      ],
      "text/plain": [
       "           id              location name sequence     line  \\\n",
       "0  BV10049208  106.585845,29.564142  朝天门        1  轨道交通1号线   \n",
       "1  BV10045951  106.583159,29.559168  小什字        2  轨道交通1号线   \n",
       "\n",
       "                                            geometry  MSA  poi_count  \n",
       "0  POLYGON ((11865271.704 3448016.635, 11865268.8...  朝天门      584.0  \n",
       "1  POLYGON ((11864972.692 3447380.071, 11864969.8...  小什字     6970.0  "
      ]
     },
     "execution_count": 19,
     "metadata": {},
     "output_type": "execute_result"
    }
   ],
   "source": [
    "final_msa.to_file('data/final_msa.geojson', driver='GeoJSON')\n",
    "final_msa.head(2)"
   ]
  },
  {
   "cell_type": "code",
   "execution_count": 47,
   "metadata": {},
   "outputs": [
    {
     "data": {
      "text/plain": [
       "[('朝天门', '小什字'),\n",
       " ('小什字', '较场口'),\n",
       " ('较场口', '七星岗'),\n",
       " ('七星岗', '两路口'),\n",
       " ('两路口', '鹅岭'),\n",
       " ('鹅岭', '大坪'),\n",
       " ('大坪', '石油路'),\n",
       " ('石油路', '歇台子'),\n",
       " ('歇台子', '石桥铺'),\n",
       " ('石桥铺', '高庙村'),\n",
       " ('高庙村', '马家岩'),\n",
       " ('马家岩', '小龙坎'),\n",
       " ('小龙坎', '沙坪坝'),\n",
       " ('沙坪坝', '杨公桥'),\n",
       " ('杨公桥', '烈士墓'),\n",
       " ('烈士墓', '磁器口'),\n",
       " ('磁器口', '石井坡'),\n",
       " ('石井坡', '双碑'),\n",
       " ('双碑', '赖家桥'),\n",
       " ('赖家桥', '微电园'),\n",
       " ('微电园', '陈家桥'),\n",
       " ('陈家桥', '大学城'),\n",
       " ('大学城', '尖顶坡'),\n",
       " ('尖顶坡', '璧山')]"
      ]
     },
     "execution_count": 47,
     "metadata": {},
     "output_type": "execute_result"
    }
   ],
   "source": [
    "sample_lines = metro_sts[metro_sts['line'] == '轨道交通1号线']\n",
    "list(zip(sample_lines['name'][0:-1],sample_lines['name'][1:]))"
   ]
  },
  {
   "cell_type": "code",
   "execution_count": 48,
   "metadata": {},
   "outputs": [],
   "source": [
    "def two_sts(x):\n",
    "    zipped_name = list(zip(x['name'][0:-1], x['name'][1:]))\n",
    "    zipped_loc = list(zip(x['location'][0:-1], x['location'][1:]))\n",
    "    \n",
    "    return (zipped_name, zipped_loc)\n",
    "    "
   ]
  },
  {
   "cell_type": "code",
   "execution_count": 51,
   "metadata": {},
   "outputs": [
    {
     "name": "stderr",
     "output_type": "stream",
     "text": [
      "C:\\Users\\dune\\AppData\\Local\\Temp\\ipykernel_19080\\613894199.py:1: DeprecationWarning: DataFrameGroupBy.apply operated on the grouping columns. This behavior is deprecated, and in a future version of pandas the grouping columns will be excluded from the operation. Either pass `include_groups=False` to exclude the groupings or explicitly select the grouping columns after groupby to silence this warning.\n",
      "  result =metro_sts.groupby('line').apply(two_sts).reset_index()\n"
     ]
    }
   ],
   "source": [
    "result =metro_sts.groupby('line').apply(two_sts).reset_index()\n",
    "result['name']=result[0].str.get(0)\n",
    "result['loc_gcj02']=result[0].str.get(1)"
   ]
  },
  {
   "cell_type": "code",
   "execution_count": 54,
   "metadata": {},
   "outputs": [],
   "source": [
    "metro_od = pd.concat([result['line'].repeat([len(x) for x in result['name']]).reset_index(drop=True),\n",
    "                      result['name'].explode().reset_index(drop=True), \n",
    "                      result['loc_gcj02'].explode().reset_index(drop=True)],axis=1)\n",
    "metro_od.head(2)\n",
    "metro_od.to_json('data/metro_od.json', orient='records')"
   ]
  },
  {
   "cell_type": "code",
   "execution_count": null,
   "metadata": {},
   "outputs": [],
   "source": []
  },
  {
   "cell_type": "markdown",
   "metadata": {},
   "source": [
    "<a id=\"ID_analyse\"></a>\n",
    "| [1.0 Intro](#ID_intr) | [2.0 Lit. review](#ID_lit) | [3.0 Method](#ID_method) | [4.0 Data](#ID_data) | [5.0 Explore](#ID_explore) | [6.0 Analysis](#ID_analyse) | [7.0 Discussion and conclusion](#ID_conclude) | [Bibliography](#ID_biblio) | [Appendix](#ID_append) |\n",
    "\n",
    "## 6.0 | Analysis"
   ]
  },
  {
   "cell_type": "code",
   "execution_count": null,
   "metadata": {},
   "outputs": [],
   "source": []
  },
  {
   "cell_type": "code",
   "execution_count": null,
   "metadata": {},
   "outputs": [],
   "source": []
  },
  {
   "cell_type": "markdown",
   "metadata": {},
   "source": [
    "<a id=\"ID_conclude\"></a>\n",
    "| [1.0 Intro](#ID_intr) | [2.0 Lit. review](#ID_lit) | [3.0 Method](#ID_method) | [4.0 Data](#ID_data) | [5.0 Explore](#ID_explore) | [6.0 Analysis](#ID_analyse) | [7.0 Discussion and conclusion](#ID_conclude) | [Bibliography](#ID_biblio) | [Appendix](#ID_append) |\n",
    "\n",
    "## 7.0 | Discussion and conclusion"
   ]
  },
  {
   "cell_type": "markdown",
   "metadata": {},
   "source": []
  },
  {
   "cell_type": "markdown",
   "metadata": {},
   "source": [
    "<a id=\"ID_biblio\"></a>\n",
    "| [1.0 Intro](#ID_intr) | [2.0 Lit. review](#ID_lit) | [3.0 Method](#ID_method) | [4.0 Data](#ID_data) | [5.0 Explore](#ID_explore) | [6.0 Analysis](#ID_analyse) | [7.0 Discussion and conclusion](#ID_conclude) | [Bibliography](#ID_biblio) | [Appendix](#ID_append) |\n",
    "\n",
    "\n",
    "***\n",
    "## Bibliography\n"
   ]
  },
  {
   "cell_type": "markdown",
   "metadata": {},
   "source": []
  },
  {
   "cell_type": "markdown",
   "metadata": {},
   "source": [
    "<a id=\"ID_append\"></a>\n",
    "| [1.0 Intro](#ID_intr) | [2.0 Lit. review](#ID_lit) | [3.0 Method](#ID_method) | [4.0 Data](#ID_data) | [5.0 Explore](#ID_explore) | [6.0 Analysis](#ID_analyse) | [7.0 Discussion and conclusion](#ID_conclude) | [Bibliography](#ID_biblio) | [Appendix](#ID_append) |\n",
    "\n",
    "## Appendix"
   ]
  }
 ],
 "metadata": {
  "kernelspec": {
   "display_name": "base",
   "language": "python",
   "name": "python3"
  },
  "language_info": {
   "codemirror_mode": {
    "name": "ipython",
    "version": 3
   },
   "file_extension": ".py",
   "mimetype": "text/x-python",
   "name": "python",
   "nbconvert_exporter": "python",
   "pygments_lexer": "ipython3",
   "version": "3.11.5"
  }
 },
 "nbformat": 4,
 "nbformat_minor": 2
}
